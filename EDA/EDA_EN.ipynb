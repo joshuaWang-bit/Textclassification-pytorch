{
 "cells": [
  {
   "cell_type": "markdown",
   "metadata": {
    "id": "er4O-aYwTkE1"
   },
   "source": [
    "# Parameters"
   ]
  },
  {
   "cell_type": "code",
   "execution_count": 1,
   "metadata": {
    "id": "7YzomT7sTPPh"
   },
   "outputs": [],
   "source": [
    "raw_data_path = '../Data_En/news.csv'\n",
    "destination_folder = '../Data_En/pdata'\n",
    "\n",
    "train_test_ratio = 0.10\n",
    "train_valid_ratio = 0.80\n",
    "\n",
    "first_n_words = 200"
   ]
  },
  {
   "cell_type": "markdown",
   "metadata": {
    "id": "SSbCqzcDWn-4"
   },
   "source": [
    "# Libraries"
   ]
  },
  {
   "cell_type": "code",
   "execution_count": 11,
   "metadata": {
    "id": "O-muOECSWrOt"
   },
   "outputs": [],
   "source": [
    "import pandas as pd\n",
    "import seaborn as sns\n",
    "from sklearn.model_selection import train_test_split"
   ]
  },
  {
   "cell_type": "markdown",
   "metadata": {
    "id": "bNfpHFEPUcyE"
   },
   "source": [
    "# Preprocessing"
   ]
  },
  {
   "cell_type": "code",
   "execution_count": 3,
   "metadata": {
    "id": "oOxjGn9aki-c"
   },
   "outputs": [],
   "source": [
    "def trim_string(x):\n",
    "\n",
    "    x = x.split(maxsplit=first_n_words)\n",
    "    x = ' '.join(x[:first_n_words])\n",
    "\n",
    "    return x"
   ]
  },
  {
   "cell_type": "code",
   "execution_count": 4,
   "metadata": {
    "id": "Tl4_dITCUk83"
   },
   "outputs": [],
   "source": [
    "# Read raw data\n",
    "df_raw = pd.read_csv(raw_data_path)\n",
    "\n",
    "# Prepare columns\n",
    "df_raw['label'] = (df_raw['label'] == 'FAKE').astype('int')\n",
    "df_raw['titletext'] = df_raw['title'] + \". \" + df_raw['text']\n",
    "df_raw = df_raw.reindex(columns=['label', 'title', 'text', 'titletext'])\n",
    "\n",
    "# Drop rows with empty text\n",
    "df_raw.drop( df_raw[df_raw.text.str.len() < 5].index, inplace=True)\n",
    "\n",
    "# Trim text and titletext to first_n_words\n",
    "df_raw['text'] = df_raw['text'].apply(trim_string)\n",
    "df_raw['titletext'] = df_raw['titletext'].apply(trim_string) \n",
    "\n",
    "# Split according to label\n",
    "df_real = df_raw[df_raw['label'] == 0]\n",
    "df_fake = df_raw[df_raw['label'] == 1]\n",
    "\n",
    "# Train-test split\n",
    "df_real_full_train, df_real_test = train_test_split(df_real, train_size = train_test_ratio, random_state = 1)\n",
    "df_fake_full_train, df_fake_test = train_test_split(df_fake, train_size = train_test_ratio, random_state = 1)\n",
    "\n",
    "# Train-valid split\n",
    "df_real_train, df_real_valid = train_test_split(df_real_full_train, train_size = train_valid_ratio, random_state = 1)\n",
    "df_fake_train, df_fake_valid = train_test_split(df_fake_full_train, train_size = train_valid_ratio, random_state = 1)\n",
    "\n",
    "# Concatenate splits of different labels\n",
    "df_train = pd.concat([df_real_train, df_fake_train], ignore_index=True, sort=False)\n",
    "df_valid = pd.concat([df_real_valid, df_fake_valid], ignore_index=True, sort=False)\n",
    "df_test = pd.concat([df_real_test, df_fake_test], ignore_index=True, sort=False)\n",
    "\n",
    "# Write preprocessed data\n",
    "df_train.to_csv(destination_folder + '/train.csv', index=False)\n",
    "df_valid.to_csv(destination_folder + '/valid.csv', index=False)\n",
    "df_test.to_csv(destination_folder + '/test.csv', index=False)"
   ]
  },
  {
   "cell_type": "code",
   "execution_count": 5,
   "metadata": {
    "id": "2_HRD0JMjb9a",
    "scrolled": true
   },
   "outputs": [
    {
     "data": {
      "text/html": [
       "<div>\n",
       "<style scoped>\n",
       "    .dataframe tbody tr th:only-of-type {\n",
       "        vertical-align: middle;\n",
       "    }\n",
       "\n",
       "    .dataframe tbody tr th {\n",
       "        vertical-align: top;\n",
       "    }\n",
       "\n",
       "    .dataframe thead th {\n",
       "        text-align: right;\n",
       "    }\n",
       "</style>\n",
       "<table border=\"1\" class=\"dataframe\">\n",
       "  <thead>\n",
       "    <tr style=\"text-align: right;\">\n",
       "      <th></th>\n",
       "      <th>label</th>\n",
       "      <th>title</th>\n",
       "      <th>text</th>\n",
       "      <th>titletext</th>\n",
       "    </tr>\n",
       "  </thead>\n",
       "  <tbody>\n",
       "    <tr>\n",
       "      <th>0</th>\n",
       "      <td>0</td>\n",
       "      <td>Obamacare's unlikely No. 1 city</td>\n",
       "      <td>Killing Obama administration rules, dismantlin...</td>\n",
       "      <td>Obamacare's unlikely No. 1 city. Killing Obama...</td>\n",
       "    </tr>\n",
       "    <tr>\n",
       "      <th>1</th>\n",
       "      <td>0</td>\n",
       "      <td>New York restores order for 2016 front-runners</td>\n",
       "      <td>Hillary Clinton and Donald Trump scored resoun...</td>\n",
       "      <td>New York restores order for 2016 front-runners...</td>\n",
       "    </tr>\n",
       "    <tr>\n",
       "      <th>2</th>\n",
       "      <td>0</td>\n",
       "      <td>These political scientists may have just disco...</td>\n",
       "      <td>There's a lot of disgust in America with polit...</td>\n",
       "      <td>These political scientists may have just disco...</td>\n",
       "    </tr>\n",
       "    <tr>\n",
       "      <th>3</th>\n",
       "      <td>0</td>\n",
       "      <td>Hillary supporters: We're excited, too, but al...</td>\n",
       "      <td>Trump and Sanders get all the attention for th...</td>\n",
       "      <td>Hillary supporters: We're excited, too, but al...</td>\n",
       "    </tr>\n",
       "    <tr>\n",
       "      <th>4</th>\n",
       "      <td>0</td>\n",
       "      <td>Hung jury in Jodi Arias sentencing phase remov...</td>\n",
       "      <td>The jury in the Jodi Arias case tasked with de...</td>\n",
       "      <td>Hung jury in Jodi Arias sentencing phase remov...</td>\n",
       "    </tr>\n",
       "  </tbody>\n",
       "</table>\n",
       "</div>"
      ],
      "text/plain": [
       "   label                                              title  \\\n",
       "0      0                    Obamacare's unlikely No. 1 city   \n",
       "1      0     New York restores order for 2016 front-runners   \n",
       "2      0  These political scientists may have just disco...   \n",
       "3      0  Hillary supporters: We're excited, too, but al...   \n",
       "4      0  Hung jury in Jodi Arias sentencing phase remov...   \n",
       "\n",
       "                                                text  \\\n",
       "0  Killing Obama administration rules, dismantlin...   \n",
       "1  Hillary Clinton and Donald Trump scored resoun...   \n",
       "2  There's a lot of disgust in America with polit...   \n",
       "3  Trump and Sanders get all the attention for th...   \n",
       "4  The jury in the Jodi Arias case tasked with de...   \n",
       "\n",
       "                                           titletext  \n",
       "0  Obamacare's unlikely No. 1 city. Killing Obama...  \n",
       "1  New York restores order for 2016 front-runners...  \n",
       "2  These political scientists may have just disco...  \n",
       "3  Hillary supporters: We're excited, too, but al...  \n",
       "4  Hung jury in Jodi Arias sentencing phase remov...  "
      ]
     },
     "execution_count": 5,
     "metadata": {},
     "output_type": "execute_result"
    }
   ],
   "source": [
    "df_train.head()"
   ]
  },
  {
   "cell_type": "markdown",
   "metadata": {},
   "source": [
    "# 数据分析"
   ]
  },
  {
   "cell_type": "code",
   "execution_count": 8,
   "metadata": {},
   "outputs": [
    {
     "data": {
      "text/plain": [
       "<bound method DataFrame.info of      label                                              title  \\\n",
       "0        0                    Obamacare's unlikely No. 1 city   \n",
       "1        0     New York restores order for 2016 front-runners   \n",
       "2        0  These political scientists may have just disco...   \n",
       "3        0  Hillary supporters: We're excited, too, but al...   \n",
       "4        0  Hung jury in Jodi Arias sentencing phase remov...   \n",
       "..     ...                                                ...   \n",
       "497      1  John Pilger: ‘The truth is… there was no one t...   \n",
       "498      1  DEVELOPING: FBI Reopens Investigation into Cli...   \n",
       "499      1                        Will Hillary Accept Defeat?   \n",
       "500      1       How to Solve the Illegal Immigration Problem   \n",
       "501      1  Top Aide to Hillary Clinton Urges the FBI to D...   \n",
       "\n",
       "                                                  text  \\\n",
       "0    Killing Obama administration rules, dismantlin...   \n",
       "1    Hillary Clinton and Donald Trump scored resoun...   \n",
       "2    There's a lot of disgust in America with polit...   \n",
       "3    Trump and Sanders get all the attention for th...   \n",
       "4    The jury in the Jodi Arias case tasked with de...   \n",
       "..                                                 ...   \n",
       "497  Leave a Reply Click here to get more info on f...   \n",
       "498  The Clinton email scandal has taken an unexpec...   \n",
       "499  Print The headlines are in. Trump is the “anti...   \n",
       "500  Republican presidential candidate Donald Trump...   \n",
       "501  23 Shares 4 18 0 1 A top aide to Hillary Clint...   \n",
       "\n",
       "                                             titletext  \n",
       "0    Obamacare's unlikely No. 1 city. Killing Obama...  \n",
       "1    New York restores order for 2016 front-runners...  \n",
       "2    These political scientists may have just disco...  \n",
       "3    Hillary supporters: We're excited, too, but al...  \n",
       "4    Hung jury in Jodi Arias sentencing phase remov...  \n",
       "..                                                 ...  \n",
       "497  John Pilger: ‘The truth is… there was no one t...  \n",
       "498  DEVELOPING: FBI Reopens Investigation into Cli...  \n",
       "499  Will Hillary Accept Defeat?. Print The headlin...  \n",
       "500  How to Solve the Illegal Immigration Problem. ...  \n",
       "501  Top Aide to Hillary Clinton Urges the FBI to D...  \n",
       "\n",
       "[502 rows x 4 columns]>"
      ]
     },
     "execution_count": 8,
     "metadata": {},
     "output_type": "execute_result"
    }
   ],
   "source": [
    "df_train.info"
   ]
  },
  {
   "cell_type": "code",
   "execution_count": 9,
   "metadata": {},
   "outputs": [
    {
     "name": "stdout",
     "output_type": "stream",
     "text": [
      "Empty DataFrame\n",
      "Columns: [label, title, text, titletext]\n",
      "Index: []\n"
     ]
    }
   ],
   "source": [
    "#缺失值\n",
    "\n",
    "print(df_train[df_train.isnull().T.any()])\n",
    "# 没有缺失值"
   ]
  },
  {
   "cell_type": "code",
   "execution_count": 6,
   "metadata": {},
   "outputs": [
    {
     "data": {
      "text/plain": [
       "Counter({0: 253, 1: 249})"
      ]
     },
     "execution_count": 6,
     "metadata": {},
     "output_type": "execute_result"
    }
   ],
   "source": [
    "#标签分布\n",
    "from collections import Counter\n",
    "Counter(list(df_train.label))"
   ]
  },
  {
   "cell_type": "code",
   "execution_count": 16,
   "metadata": {},
   "outputs": [
    {
     "name": "stderr",
     "output_type": "stream",
     "text": [
      "/home/joshua/miniconda3/envs/pytorch/lib/python3.7/site-packages/seaborn/distributions.py:2557: FutureWarning: `distplot` is a deprecated function and will be removed in a future version. Please adapt your code to use either `displot` (a figure-level function with similar flexibility) or `histplot` (an axes-level function for histograms).\n",
      "  warnings.warn(msg, FutureWarning)\n",
      "/home/joshua/miniconda3/envs/pytorch/lib/python3.7/site-packages/seaborn/distributions.py:2557: FutureWarning: `distplot` is a deprecated function and will be removed in a future version. Please adapt your code to use either `displot` (a figure-level function with similar flexibility) or `histplot` (an axes-level function for histograms).\n",
      "  warnings.warn(msg, FutureWarning)\n"
     ]
    },
    {
     "data": {
      "text/plain": [
       "<AxesSubplot:xlabel='word_count', ylabel='Density'>"
      ]
     },
     "execution_count": 16,
     "metadata": {},
     "output_type": "execute_result"
    },
    {
     "data": {
      "image/png": "[encoded data removed]",
      "text/plain": [
       "<Figure size 432x288 with 1 Axes>"
      ]
     },
     "metadata": {
      "needs_background": "light"
     },
     "output_type": "display_data"
    }
   ],
   "source": [
    "#长度分布\n",
    "df_train['word_count'] = df_train['titletext'].apply(lambda x:len(str(x).split()))\n",
    "sns.distplot(df_train.loc[~(df_train['label'] == 1)]['word_count'], label='0', color='green')\n",
    "sns.distplot(df_train.loc[df_train['label'] == 1]['word_count'], label='1', color='red')\n"
   ]
  },
  {
   "cell_type": "code",
   "execution_count": null,
   "metadata": {},
   "outputs": [],
   "source": []
  }
 ],
 "metadata": {
  "colab": {
   "collapsed_sections": [],
   "name": "Preprocessing of Fake News Dataset.ipynb",
   "provenance": [],
   "toc_visible": true
  },
  "kernelspec": {
   "display_name": "pytorch",
   "language": "python",
   "name": "pytorch"
  },
  "language_info": {
   "codemirror_mode": {
    "name": "ipython",
    "version": 3
   },
   "file_extension": ".py",
   "mimetype": "text/x-python",
   "name": "python",
   "nbconvert_exporter": "python",
   "pygments_lexer": "ipython3",
   "version": "3.7.10"
  }
 },
 "nbformat": 4,
 "nbformat_minor": 1
}
