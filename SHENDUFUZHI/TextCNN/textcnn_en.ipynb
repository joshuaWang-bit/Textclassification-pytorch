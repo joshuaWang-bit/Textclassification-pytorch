{
 "cells": [
  {
   "cell_type": "markdown",
   "id": "motivated-income",
   "metadata": {},
   "source": [
    "# Parameters"
   ]
  },
  {
   "cell_type": "code",
   "execution_count": 1,
   "id": "behind-consent",
   "metadata": {},
   "outputs": [],
   "source": [
    "source_folder = '../Data_En/pdata'\n",
    "destination_folder = './model_bert_en'"
   ]
  },
  {
   "cell_type": "markdown",
   "id": "sharing-lewis",
   "metadata": {},
   "source": [
    "# Libraries"
   ]
  },
  {
   "cell_type": "code",
   "execution_count": 13,
   "id": "polish-respect",
   "metadata": {},
   "outputs": [],
   "source": [
    "# Libraries\n",
    "import os\n",
    "os.environ[\"CUDA_VISIBLE_DEVICES\"] = \"2\"\n",
    "import matplotlib.pyplot as plt\n",
    "import pandas as pd\n",
    "import torch\n",
    "import numpy as np\n",
    "# Preliminaries\n",
    "\n",
    "from torchtext.legacy.data import LabelField, Field, TabularDataset, BucketIterator, Iterator\n",
    "\n",
    "# Models\n",
    "\n",
    "import torch.nn as nn\n",
    "from transformers import BertTokenizer, BertForSequenceClassification\n",
    "\n",
    "# Training\n",
    "\n",
    "import torch.optim as optim\n",
    "\n",
    "# Evaluation\n",
    "\n",
    "from sklearn.metrics import accuracy_score, classification_report, confusion_matrix\n",
    "import seaborn as sns"
   ]
  },
  {
   "cell_type": "markdown",
   "id": "circular-relay",
   "metadata": {},
   "source": [
    "# Preliminaries"
   ]
  },
  {
   "cell_type": "code",
   "execution_count": 3,
   "id": "prospective-brief",
   "metadata": {},
   "outputs": [],
   "source": [
    "import spacy\n",
    "spacy_en = spacy.load('en_core_web_sm')\n",
    "\n",
    "# create a tokenizer function\n",
    "def tokenizer(text): \n",
    "    return [tok.text for tok in spacy_en.tokenizer(text)]"
   ]
  },
  {
   "cell_type": "code",
   "execution_count": 4,
   "id": "noble-being",
   "metadata": {},
   "outputs": [],
   "source": [
    "# Model parameter\n",
    "MAX_SEQ_LEN = 128\n",
    "device = 'cpu'\n",
    "EMBEDDING_SIZE = 200\n",
    "SENTENCE_LIMIT_SIZE = 200\n",
    "LEARNING_RATE = 1e-3\n",
    "# Fields\n",
    "TEXT = Field(tokenize=tokenizer, lower=True, fix_length=128, batch_first=True)       #以空格分开，小写，fix_length指定了每条文本的长度，截断补长\n",
    "LABEL = LabelField(dtype=torch.float)\n",
    "\n",
    "fields = [('label', LABEL), ('title', TEXT), ('text', TEXT), ('titletext', TEXT)]"
   ]
  },
  {
   "cell_type": "code",
   "execution_count": 5,
   "id": "geological-wisconsin",
   "metadata": {},
   "outputs": [],
   "source": [
    "\n",
    "\n",
    "# TabularDataset\n",
    "\n",
    "train, valid, test = TabularDataset.splits(path=source_folder, train='train.csv', validation='valid.csv',\n",
    "                                           test='test.csv', format='CSV', fields=fields, skip_header=True)\n",
    "\n"
   ]
  },
  {
   "cell_type": "code",
   "execution_count": 6,
   "id": "narrative-victorian",
   "metadata": {},
   "outputs": [
    {
     "name": "stdout",
     "output_type": "stream",
     "text": [
      "['obamacare', \"'s\", 'unlikely', 'no', '.', '1', 'city', '.', 'killing', 'obama', 'administration', 'rules', ',', 'dismantling', 'obamacare', 'and', 'pushing', 'through', 'tax', 'reform', 'are', 'on', 'the', 'early', 'to', '-', 'do', 'list', '.']\n",
      "dict_keys(['label', 'title', 'text', 'titletext'])\n"
     ]
    }
   ],
   "source": [
    "print(train[0].titletext)\n",
    "print(train[0].__dict__.keys())"
   ]
  },
  {
   "cell_type": "code",
   "execution_count": 7,
   "id": "personal-pendant",
   "metadata": {},
   "outputs": [
    {
     "name": "stdout",
     "output_type": "stream",
     "text": [
      "10002\n",
      "['<unk>', '<pad>', 'the', ',', '.', 'to', 'of', 'and', 'a', 'in', 'that', 'is']\n",
      "102\n",
      "defaultdict(None, {'0': 0, '1': 1})\n"
     ]
    }
   ],
   "source": [
    "#创建vocab\n",
    "TEXT.build_vocab(train, max_size=10000, vectors='glove.6B.200d')\n",
    "LABEL.build_vocab(train)\n",
    "print(len(TEXT.vocab))                     #10002\n",
    "print(TEXT.vocab.itos[:12])                #['<unk>', '<pad>', 'the', ',', 'a', 'and', 'of', 'to', '.', 'is', 'in', 'that']\n",
    "print(TEXT.vocab.stoi['like'])             #32\n",
    "print(LABEL.vocab.stoi)                    #defaultdict(None, {0: 0, 1: 1})"
   ]
  },
  {
   "cell_type": "code",
   "execution_count": 8,
   "id": "leading-status",
   "metadata": {},
   "outputs": [],
   "source": [
    "# Iterators\n",
    "\n",
    "train_iter = BucketIterator(train, batch_size=16, sort_key=lambda x: len(x.text),\n",
    "                            device=device, train=True, sort=True, sort_within_batch=True)\n",
    "valid_iter = BucketIterator(valid, batch_size=16, sort_key=lambda x: len(x.text),\n",
    "                            device=device, train=True, sort=True, sort_within_batch=True)\n",
    "test_iter = Iterator(test, batch_size=16, device=device, train=False, shuffle=False, sort=False)"
   ]
  },
  {
   "cell_type": "markdown",
   "id": "chicken-bacteria",
   "metadata": {},
   "source": [
    "# Model"
   ]
  },
  {
   "cell_type": "code",
   "execution_count": 9,
   "id": "qualified-dimension",
   "metadata": {},
   "outputs": [],
   "source": [
    "class TextCNN(nn.Module):   \n",
    "    def __init__(self, vocab_size, embedding_dim, output_size, filter_num=100, kernel_lst=(3,4,5), dropout=0.5):\n",
    "        super(TextCNN, self).__init__()\n",
    "\n",
    "        self.embedding = nn.Embedding(vocab_size, embedding_dim)\n",
    "        self.convs = nn.ModuleList([\n",
    "                             nn.Sequential(nn.Conv2d(1, filter_num, (kernel, embedding_dim)),\n",
    "                                            nn.ReLU(),\n",
    "                                            nn.MaxPool2d((MAX_SEQ_LEN - kernel + 1, 1)))\n",
    "                              for kernel in kernel_lst])\n",
    "        self.fc = nn.Linear(filter_num * len(kernel_lst), output_size)\n",
    "        self.dropout = nn.Dropout(dropout)\n",
    "\n",
    "    def forward(self, x):\n",
    "        x = self.embedding(x)       #(batch, word_num, embedding_dim)\n",
    "        x = x.unsqueeze(1)          #[128, 1, 20, 200] 即(batch, channel_num, word_num, embedding_dim)\n",
    "        out = [conv(x) for conv in self.convs]\n",
    "\n",
    "        out = torch.cat(out, dim=1)      # [128, 300, 1, 1]\n",
    "        out = out.view(x.size(0), -1)    #[128, 300]\n",
    "        out = self.dropout(out)\n",
    "        logit = self.fc(out)             #[128, 2]\n",
    "\n",
    "        return logit\n",
    "\n",
    "\n"
   ]
  },
  {
   "cell_type": "code",
   "execution_count": 10,
   "id": "helpful-dynamics",
   "metadata": {},
   "outputs": [],
   "source": [
    "UNK_IDX = TEXT.vocab.stoi[TEXT.unk_token]\n",
    "PAD_IDX = TEXT.vocab.stoi[TEXT.pad_token]"
   ]
  },
  {
   "cell_type": "code",
   "execution_count": 11,
   "id": "olympic-calculation",
   "metadata": {},
   "outputs": [],
   "source": [
    "#使用预训练过的embedding来替换随机初始化\n",
    "cnn = TextCNN(len(TEXT.vocab), 200, 2)\n",
    "\n",
    "pretrained_embedding = TEXT.vocab.vectors                          #torch.Size([10002, 200])\n",
    "cnn.embedding.weight.data.copy_(pretrained_embedding)\n",
    "cnn.embedding.weight.data[UNK_IDX] = torch.zeros(EMBEDDING_SIZE)\n",
    "cnn.embedding.weight.data[PAD_IDX] = torch.zeros(EMBEDDING_SIZE)\n",
    "\n",
    "\n",
    "optimizer = optim.Adam(cnn.parameters(), lr=LEARNING_RATE, weight_decay = 0.01)\n",
    "criteon = nn.CrossEntropyLoss()\n",
    "\n",
    "\n",
    "#计算准确率\n",
    "def binary_acc(preds, y):\n",
    "\n",
    "    correct = torch.eq(preds, y).float() \n",
    "    acc = correct.sum() / len(correct)\n",
    "    return acc\n",
    "\n",
    "\n",
    "#训练函数\n",
    "def train(cnn, iterator, optimizer, criteon):\n",
    "    avg_acc = []\n",
    "    cnn.train()        #表示进入训练模式\n",
    "\n",
    "    for i, batch in enumerate(iterator):\n",
    "        pred = cnn(batch.text)                         #torch.Size([128, 2])\n",
    "        loss = criteon(pred, batch.label.long())       #不加.long()会报错\n",
    "\n",
    "\n",
    "        acc = binary_acc(torch.max(pred, dim=1)[1], batch.label)   #计算每个batch的准确率\n",
    "        avg_acc.append(acc)\n",
    "\n",
    "        optimizer.zero_grad()\n",
    "        loss.backward()\n",
    "        optimizer.step()\n",
    "\n",
    "    avg_acc = np.array(avg_acc).mean()\n",
    "    return avg_acc\n",
    "\n",
    "\n",
    "\n",
    "#评估函数\n",
    "def evaluate(cnn, iterator, criteon):\n",
    "    avg_acc = []\n",
    "    cnn.eval()         #表示进入测试模式\n",
    "\n",
    "    with torch.no_grad():\n",
    "        for i, batch in enumerate(iterator):\n",
    "            pred = cnn(batch.text)               #torch.Size([128, 2])\n",
    "            acc = binary_acc(torch.max(pred, dim=1)[1], batch.label)\n",
    "            avg_acc.append(acc)\n",
    "\n",
    "    avg_acc = np.array(avg_acc).mean()\n",
    "    return avg_acc\n",
    "\n",
    "\n",
    "\n"
   ]
  },
  {
   "cell_type": "code",
   "execution_count": 14,
   "id": "atlantic-bryan",
   "metadata": {},
   "outputs": [
    {
     "name": "stdout",
     "output_type": "stream",
     "text": [
      "epoch=0,训练准确率=0.841796875\n",
      "epoch=0,测试准确率=0.8321595788002014\n",
      "epoch=1,训练准确率=0.8828125\n",
      "epoch=1,测试准确率=0.8461854457855225\n",
      "epoch=2,训练准确率=0.955078125\n",
      "epoch=2,测试准确率=0.8493545055389404\n",
      "epoch=3,训练准确率=0.974609375\n",
      "epoch=3,测试准确率=0.8460094332695007\n",
      "epoch=4,训练准确率=0.96484375\n",
      "epoch=4,测试准确率=0.8516432046890259\n",
      "epoch=5,训练准确率=0.98046875\n",
      "epoch=5,测试准确率=0.8486502766609192\n",
      "epoch=6,训练准确率=0.990234375\n",
      "epoch=6,测试准确率=0.8433685898780823\n",
      "epoch=7,训练准确率=0.98828125\n",
      "epoch=7,测试准确率=0.8416079878807068\n",
      "epoch=8,训练准确率=0.98828125\n",
      "epoch=8,测试准确率=0.8491784334182739\n",
      "epoch=9,训练准确率=0.99609375\n",
      "epoch=9,测试准确率=0.8497065901756287\n",
      "epoch=10,训练准确率=0.998046875\n",
      "epoch=10,测试准确率=0.846361517906189\n",
      "epoch=11,训练准确率=0.9921875\n",
      "epoch=11,测试准确率=0.8414319753646851\n",
      "epoch=12,训练准确率=0.994140625\n",
      "epoch=12,测试准确率=0.8477699756622314\n",
      "epoch=13,训练准确率=0.994140625\n",
      "epoch=13,测试准确率=0.8510563373565674\n",
      "epoch=14,训练准确率=0.990234375\n",
      "epoch=14,测试准确率=0.8529929518699646\n",
      "epoch=15,训练准确率=0.998046875\n",
      "epoch=15,测试准确率=0.8503521084785461\n",
      "epoch=16,训练准确率=0.9921875\n",
      "epoch=16,测试准确率=0.8480634093284607\n",
      "epoch=17,训练准确率=0.99609375\n",
      "epoch=17,测试准确率=0.8403756022453308\n",
      "epoch=18,训练准确率=0.994140625\n",
      "epoch=18,测试准确率=0.8519366383552551\n",
      "epoch=19,训练准确率=0.998046875\n",
      "epoch=19,测试准确率=0.8430164456367493\n",
      "epoch=20,训练准确率=0.994140625\n",
      "epoch=20,测试准确率=0.8480634093284607\n",
      "epoch=21,训练准确率=0.994140625\n",
      "epoch=21,测试准确率=0.8542253375053406\n",
      "epoch=22,训练准确率=0.998046875\n",
      "epoch=22,测试准确率=0.8406690359115601\n",
      "epoch=23,训练准确率=0.998046875\n",
      "epoch=23,测试准确率=0.8420774936676025\n",
      "epoch=24,训练准确率=0.994140625\n",
      "epoch=24,测试准确率=0.8510563373565674\n",
      "epoch=25,训练准确率=0.990234375\n",
      "epoch=25,测试准确率=0.8500000238418579\n",
      "epoch=26,训练准确率=0.994140625\n",
      "epoch=26,测试准确率=0.8396126627922058\n",
      "epoch=27,训练准确率=0.9921875\n",
      "epoch=27,测试准确率=0.8445422649383545\n",
      "epoch=28,训练准确率=0.99609375\n",
      "epoch=28,测试准确率=0.8404929637908936\n",
      "epoch=29,训练准确率=0.9921875\n",
      "epoch=29,测试准确率=0.8327465057373047\n",
      "epoch=30,训练准确率=0.99609375\n",
      "epoch=30,测试准确率=0.8389084339141846\n",
      "epoch=31,训练准确率=0.9921875\n",
      "epoch=31,测试准确率=0.824706494808197\n",
      "epoch=32,训练准确率=0.9921875\n",
      "epoch=32,测试准确率=0.8231807947158813\n",
      "epoch=33,训练准确率=0.998046875\n",
      "epoch=33,测试准确率=0.815610408782959\n",
      "epoch=34,训练准确率=0.9921875\n",
      "epoch=34,测试准确率=0.8078638911247253\n",
      "epoch=35,训练准确率=0.98828125\n",
      "epoch=35,测试准确率=0.8062794208526611\n",
      "epoch=36,训练准确率=0.99609375\n",
      "epoch=36,测试准确率=0.8045188188552856\n",
      "epoch=37,训练准确率=0.990234375\n",
      "epoch=37,测试准确率=0.7934272885322571\n",
      "epoch=38,训练准确率=0.998046875\n",
      "epoch=38,测试准确率=0.7946596741676331\n",
      "epoch=39,训练准确率=0.994140625\n",
      "epoch=39,测试准确率=0.7916667461395264\n",
      "epoch=40,训练准确率=0.998046875\n",
      "epoch=40,测试准确率=0.7830399870872498\n",
      "epoch=41,训练准确率=0.99609375\n",
      "epoch=41,测试准确率=0.7861501574516296\n",
      "epoch=42,训练准确率=0.994140625\n",
      "epoch=42,测试准确率=0.7822769284248352\n",
      "epoch=43,训练准确率=0.994140625\n",
      "epoch=43,测试准确率=0.7988262176513672\n",
      "epoch=44,训练准确率=1.0\n",
      "epoch=44,测试准确率=0.7993543744087219\n",
      "epoch=45,训练准确率=1.0\n",
      "epoch=45,测试准确率=0.8076290488243103\n",
      "epoch=46,训练准确率=0.99609375\n",
      "epoch=46,测试准确率=0.8083332777023315\n",
      "epoch=47,训练准确率=0.99609375\n",
      "epoch=47,测试准确率=0.8079811930656433\n",
      "epoch=48,训练准确率=0.998046875\n",
      "epoch=48,测试准确率=0.8041079044342041\n",
      "epoch=49,训练准确率=1.0\n",
      "epoch=49,测试准确率=0.8072769641876221\n"
     ]
    }
   ],
   "source": [
    "cnn_train_acc, cnn_test_acc = [], []\n",
    "\n",
    "for epoch in range(50):\n",
    "\n",
    "    train_acc = train(cnn, train_iter, optimizer, criteon)\n",
    "    print('epoch={},训练准确率={}'.format(epoch, train_acc))\n",
    "\n",
    "    test_acc = evaluate(cnn, test_iter, criteon)\n",
    "    print(\"epoch={},测试准确率={}\".format(epoch, test_acc))\n",
    "    # TO DO 自动保存\n",
    "    cnn_train_acc.append(train_acc)\n",
    "    cnn_test_acc.append(test_acc)\n"
   ]
  },
  {
   "cell_type": "code",
   "execution_count": 16,
   "id": "regulation-fusion",
   "metadata": {},
   "outputs": [
    {
     "data": {
      "text/plain": [
       "<matplotlib.legend.Legend at 0x7f254de330d0>"
      ]
     },
     "execution_count": 16,
     "metadata": {},
     "output_type": "execute_result"
    },
    {
     "data": {
      "image/png": "[encoded data removed]",
      "text/plain": [
       "<Figure size 432x288 with 1 Axes>"
      ]
     },
     "metadata": {
      "needs_background": "light"
     },
     "output_type": "display_data"
    }
   ],
   "source": [
    "\n",
    "plt.plot(cnn_train_acc)\n",
    "plt.plot(cnn_test_acc)\n",
    "plt.ylim(ymin=0.5, ymax=1.01)\n",
    "plt.legend([\"train\", \"test\"])"
   ]
  },
  {
   "cell_type": "code",
   "execution_count": null,
   "id": "medium-beijing",
   "metadata": {},
   "outputs": [],
   "source": []
  }
 ],
 "metadata": {
  "kernelspec": {
   "display_name": "pytorch",
   "language": "python",
   "name": "pytorch"
  },
  "language_info": {
   "codemirror_mode": {
    "name": "ipython",
    "version": 3
   },
   "file_extension": ".py",
   "mimetype": "text/x-python",
   "name": "python",
   "nbconvert_exporter": "python",
   "pygments_lexer": "ipython3",
   "version": "3.7.10"
  }
 },
 "nbformat": 4,
 "nbformat_minor": 5
}
