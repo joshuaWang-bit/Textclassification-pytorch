{
 "cells": [
  {
   "cell_type": "code",
   "execution_count": 1,
   "id": "occupied-migration",
   "metadata": {},
   "outputs": [],
   "source": [
    "#中文采用了清华NLP组提供的THUCNews新闻文本分类数据集的子集\n",
    "data_address = '../Data_Cn/'\n",
    "import os\n",
    "os.environ[\"CUDA_VISIBLE_DEVICES\"] = \"3\""
   ]
  },
  {
   "cell_type": "code",
   "execution_count": 25,
   "id": "opposed-tutorial",
   "metadata": {},
   "outputs": [],
   "source": [
    "import torch\n",
    "import torch.nn as nn\n",
    "import torch.nn.functional as F\n",
    "import torch.optim as optim\n",
    "import torchtext\n",
    "from torchtext.legacy import data\n",
    "from torchtext.legacy import datasets\n",
    "import torchtext\n",
    "import torch\n",
    "from torchtext.legacy.data import Field, TabularDataset, BucketIterator, Iterator\n",
    "import torch.nn as nn\n",
    "from transformers import BertTokenizer, BertForSequenceClassification\n",
    "from sklearn.metrics import accuracy_score, classification_report, confusion_matrix\n",
    "import seaborn as sns\n",
    "import spacy\n",
    "import random\n",
    "import math\n",
    "import numpy as np\n",
    "import matplotlib.pyplot as plt\n",
    "use_cuda=torch.cuda.is_available()\n",
    "device=torch.device(\"cuda\" if use_cuda else \"cpu\")\n",
    "\n",
    "SEED=1234\n",
    "random.seed(SEED)\n",
    "np.random.seed(SEED)\n",
    "torch.manual_seed(SEED)\n",
    "if use_cuda:\n",
    "    torch.cuda.manual_seed(SEED)\n",
    "\n",
    "torch.backends.cudnn.deterministic = True"
   ]
  },
  {
   "cell_type": "code",
   "execution_count": 3,
   "id": "liberal-cyprus",
   "metadata": {
    "scrolled": true
   },
   "outputs": [],
   "source": [
    "import pandas as pd\n",
    "train_data = pd.read_csv(data_address+'cnews.train.txt',sep='\\t',names=['label','content'])\n",
    "test_data = pd.read_csv(data_address+'cnews.test.txt',sep='\\t',names=['label','content'])\n",
    "dev_data = pd.read_csv(data_address+'cnews.val.txt',sep='\\t',names=['label','content'])\n"
   ]
  },
  {
   "cell_type": "code",
   "execution_count": 4,
   "id": "korean-stereo",
   "metadata": {},
   "outputs": [
    {
     "data": {
      "text/html": [
       "<div>\n",
       "<style scoped>\n",
       "    .dataframe tbody tr th:only-of-type {\n",
       "        vertical-align: middle;\n",
       "    }\n",
       "\n",
       "    .dataframe tbody tr th {\n",
       "        vertical-align: top;\n",
       "    }\n",
       "\n",
       "    .dataframe thead th {\n",
       "        text-align: right;\n",
       "    }\n",
       "</style>\n",
       "<table border=\"1\" class=\"dataframe\">\n",
       "  <thead>\n",
       "    <tr style=\"text-align: right;\">\n",
       "      <th></th>\n",
       "      <th>label</th>\n",
       "      <th>content</th>\n",
       "    </tr>\n",
       "  </thead>\n",
       "  <tbody>\n",
       "    <tr>\n",
       "      <th>0</th>\n",
       "      <td>体育</td>\n",
       "      <td>马晓旭意外受伤让国奥警惕 无奈大雨格外青睐殷家军记者傅亚雨沈阳报道 来到沈阳，国奥队依然没有...</td>\n",
       "    </tr>\n",
       "    <tr>\n",
       "      <th>1</th>\n",
       "      <td>体育</td>\n",
       "      <td>商瑞华首战复仇心切 中国玫瑰要用美国方式攻克瑞典多曼来了，瑞典来了，商瑞华首战求3分的信心也...</td>\n",
       "    </tr>\n",
       "    <tr>\n",
       "      <th>2</th>\n",
       "      <td>体育</td>\n",
       "      <td>冠军球队迎新欢乐派对 黄旭获大奖张军赢下PK赛新浪体育讯12月27日晚，“冠军高尔夫球队迎新...</td>\n",
       "    </tr>\n",
       "    <tr>\n",
       "      <th>3</th>\n",
       "      <td>体育</td>\n",
       "      <td>辽足签约危机引注册难关 高层威逼利诱合同笑里藏刀新浪体育讯2月24日，辽足爆发了集体拒签风波...</td>\n",
       "    </tr>\n",
       "    <tr>\n",
       "      <th>4</th>\n",
       "      <td>体育</td>\n",
       "      <td>揭秘谢亚龙被带走：总局电话骗局 复制南杨轨迹体坛周报特约记者张锐北京报道  谢亚龙已经被公安...</td>\n",
       "    </tr>\n",
       "  </tbody>\n",
       "</table>\n",
       "</div>"
      ],
      "text/plain": [
       "  label                                            content\n",
       "0    体育  马晓旭意外受伤让国奥警惕 无奈大雨格外青睐殷家军记者傅亚雨沈阳报道 来到沈阳，国奥队依然没有...\n",
       "1    体育  商瑞华首战复仇心切 中国玫瑰要用美国方式攻克瑞典多曼来了，瑞典来了，商瑞华首战求3分的信心也...\n",
       "2    体育  冠军球队迎新欢乐派对 黄旭获大奖张军赢下PK赛新浪体育讯12月27日晚，“冠军高尔夫球队迎新...\n",
       "3    体育  辽足签约危机引注册难关 高层威逼利诱合同笑里藏刀新浪体育讯2月24日，辽足爆发了集体拒签风波...\n",
       "4    体育  揭秘谢亚龙被带走：总局电话骗局 复制南杨轨迹体坛周报特约记者张锐北京报道  谢亚龙已经被公安..."
      ]
     },
     "execution_count": 4,
     "metadata": {},
     "output_type": "execute_result"
    }
   ],
   "source": [
    "train_data.head()"
   ]
  },
  {
   "cell_type": "code",
   "execution_count": 5,
   "id": "warming-praise",
   "metadata": {},
   "outputs": [
    {
     "data": {
      "text/plain": [
       "<bound method DataFrame.info of       label                                            content\n",
       "0        体育  马晓旭意外受伤让国奥警惕 无奈大雨格外青睐殷家军记者傅亚雨沈阳报道 来到沈阳，国奥队依然没有...\n",
       "1        体育  商瑞华首战复仇心切 中国玫瑰要用美国方式攻克瑞典多曼来了，瑞典来了，商瑞华首战求3分的信心也...\n",
       "2        体育  冠军球队迎新欢乐派对 黄旭获大奖张军赢下PK赛新浪体育讯12月27日晚，“冠军高尔夫球队迎新...\n",
       "3        体育  辽足签约危机引注册难关 高层威逼利诱合同笑里藏刀新浪体育讯2月24日，辽足爆发了集体拒签风波...\n",
       "4        体育  揭秘谢亚龙被带走：总局电话骗局 复制南杨轨迹体坛周报特约记者张锐北京报道  谢亚龙已经被公安...\n",
       "...     ...                                                ...\n",
       "49995    财经  打好投资的决胜局□国泰基金 阿邰就长期而言，资产配置占投资成功与否的决定因素高达90%以上。...\n",
       "49996    财经  昔明星基金今年首月负收益 QDII成今年胸闷基金□晨报记者 陈重博2009年以来，所有偏股型...\n",
       "49997    财经  沪基指全周大涨8.25% 创两个月最大周涨幅全景网2月6日讯 受到A股市场牛年高歌猛进影响，...\n",
       "49998    财经  沪基指半日涨2.01% 两市封基近乎全线上扬全景网2月6日讯 沪深基金指数周五早盘大幅收高，...\n",
       "49999    财经  牛年第一月 开基抬头券商集合理财掉队每经记者 于春敏在金融危机的淫威之下，2008年，全球资...\n",
       "\n",
       "[50000 rows x 2 columns]>"
      ]
     },
     "execution_count": 5,
     "metadata": {},
     "output_type": "execute_result"
    }
   ],
   "source": [
    "train_data.info"
   ]
  },
  {
   "cell_type": "code",
   "execution_count": 6,
   "id": "unusual-albania",
   "metadata": {},
   "outputs": [
    {
     "data": {
      "text/plain": [
       "Counter({'体育': 5000,\n",
       "         '娱乐': 5000,\n",
       "         '家居': 5000,\n",
       "         '房产': 5000,\n",
       "         '教育': 5000,\n",
       "         '时尚': 5000,\n",
       "         '时政': 5000,\n",
       "         '游戏': 5000,\n",
       "         '科技': 5000,\n",
       "         '财经': 5000})"
      ]
     },
     "execution_count": 6,
     "metadata": {},
     "output_type": "execute_result"
    }
   ],
   "source": [
    "from collections import Counter\n",
    "Counter(list(train_data.label))"
   ]
  },
  {
   "cell_type": "markdown",
   "id": "chronic-teaching",
   "metadata": {},
   "source": [
    "# 分词"
   ]
  },
  {
   "cell_type": "code",
   "execution_count": 7,
   "id": "textile-charleston",
   "metadata": {},
   "outputs": [],
   "source": [
    "from transformers import BertTokenizer\n",
    "tokenizer=BertTokenizer.from_pretrained('../utils/bert-base-chinese')"
   ]
  },
  {
   "cell_type": "code",
   "execution_count": 8,
   "id": "single-density",
   "metadata": {},
   "outputs": [
    {
     "name": "stdout",
     "output_type": "stream",
     "text": [
      "['我', '喜', '欢', '打', '篮', '球']\n",
      "[2769, 1599, 3614, 2802, 5074, 4413]\n"
     ]
    }
   ],
   "source": [
    "#分词单个例子\n",
    "token=tokenizer.tokenize(\"我喜欢打篮球\")\n",
    "\n",
    "print(token)\n",
    "indexes=tokenizer.convert_tokens_to_ids(token)\n",
    "\n",
    "print(indexes)"
   ]
  },
  {
   "cell_type": "code",
   "execution_count": 9,
   "id": "controversial-hebrew",
   "metadata": {},
   "outputs": [
    {
     "name": "stdout",
     "output_type": "stream",
     "text": [
      "[CLS] [SEP] [PAD] [UNK]\n",
      "101 102 0 100\n"
     ]
    }
   ],
   "source": [
    "#bert特殊token\n",
    "cls_token=tokenizer.cls_token\n",
    "sep_token=tokenizer.sep_token\n",
    "pad_token=tokenizer.pad_token\n",
    "unk_token=tokenizer.unk_token\n",
    "\n",
    "print(cls_token,sep_token,pad_token,unk_token)\n",
    "cls_token_id=tokenizer.cls_token_id\n",
    "sep_token_id=tokenizer.sep_token_id\n",
    "pad_token_id=tokenizer.pad_token_id\n",
    "unk_token_id=tokenizer.unk_token_id\n",
    "\n",
    "print(cls_token_id,sep_token_id, pad_token_id, unk_token_id)\n"
   ]
  },
  {
   "cell_type": "code",
   "execution_count": 10,
   "id": "sapphire-technician",
   "metadata": {},
   "outputs": [
    {
     "name": "stdout",
     "output_type": "stream",
     "text": [
      "512\n"
     ]
    }
   ],
   "source": [
    "#长度限制\n",
    "max_input_length = tokenizer.max_model_input_sizes['bert-base-chinese']\n",
    "#但是这个太长了，改128吧\n",
    "print(max_input_length)\n",
    "max_input_length = 128"
   ]
  },
  {
   "cell_type": "markdown",
   "id": "renewable-basketball",
   "metadata": {},
   "source": [
    "# 数据集准备"
   ]
  },
  {
   "cell_type": "markdown",
   "id": "architectural-edgar",
   "metadata": {},
   "source": [
    "## Field"
   ]
  },
  {
   "cell_type": "code",
   "execution_count": 11,
   "id": "clean-pharmacy",
   "metadata": {},
   "outputs": [],
   "source": [
    "TEXT=torchtext.legacy.data.Field(batch_first=True,use_vocab=False,tokenize=tokenizer.encode,\n",
    "                fix_length=max_input_length,\n",
    "                init_token=cls_token_id,\n",
    "                eos_token=sep_token_id,\n",
    "                pad_token=pad_token_id,\n",
    "                unk_token=unk_token_id)\n",
    "\n",
    "LABEL=torchtext.legacy.data.LabelField(dtype=torch.long,use_vocab=False)"
   ]
  },
  {
   "cell_type": "code",
   "execution_count": 12,
   "id": "cordless-oxygen",
   "metadata": {},
   "outputs": [],
   "source": [
    "train_dataset,dev_dataset,test_dataset = torchtext.legacy.data.TabularDataset.splits(\n",
    "      path=data_address,  #文件存放路径\n",
    "      format='tsv',   #文件格式\n",
    "      skip_header=False,  #是否跳过表头，我这里数据集中没有表头，所以不跳过\n",
    "      train='train_data.tsv',  \n",
    "      validation='test_data.tsv',\n",
    "      test='dev_data.tsv',    \n",
    "      fields=[('label',LABEL),('content',TEXT)] # 定义数据对应的表头\n",
    "  )"
   ]
  },
  {
   "cell_type": "code",
   "execution_count": 13,
   "id": "sticky-transcript",
   "metadata": {},
   "outputs": [
    {
     "name": "stdout",
     "output_type": "stream",
     "text": [
      "Number of training examples: 50000\n",
      "Number of validation examples: 10000\n",
      "Number of testing examples: 5000\n"
     ]
    }
   ],
   "source": [
    "print(f\"Number of training examples: {len(train_dataset)}\")\n",
    "print(f\"Number of validation examples: {len(dev_dataset)}\")\n",
    "print(f\"Number of testing examples: {len(test_dataset)}\")"
   ]
  },
  {
   "cell_type": "code",
   "execution_count": 14,
   "id": "worst-gregory",
   "metadata": {},
   "outputs": [
    {
     "name": "stdout",
     "output_type": "stream",
     "text": [
      "{'label': '0', 'content': [101, 6808, 6639, 5041, 5276, 1314, 3322, 2471, 3800, 1085, 7410, 1068, 7770, 2231, 2014, 6873, 1164, 6430, 1394, 1398, 5010, 7027, 5966, 1143, 3173, 3857, 860, 5509, 6380, 123, 3299, 8125, 3189, 8024, 6808, 6639, 4255, 1355, 749, 7415, 860, 2867, 5041, 7599, 3797, 8024, 679, 5041, 1394, 1398, 8024, 6808, 6639, 4638, 3800, 1085, 7309, 7579, 2218, 2523, 3475, 2797, 511, 680, 2518, 2399, 671, 3416, 8024, 6808, 6639, 2600, 833, 6878, 1168, 3800, 1085, 1314, 3322, 8024, 852, 3297, 1400, 6963, 3221, 6649, 6649, 3058, 3058, 1765, 5885, 3921, 6814, 1068, 511, 791, 2399, 8024, 6808, 2123, 2131, 6817, 7415, 1730, 3836, 6897, 1762, 936, 727, 6956, 4638, 7942, 1998, 4908, 741, 1469, 1199, 2600, 7387, 6241, 1762, 3862, 1811, 6901, 1168, 4638, 679, 1398, 754, 2518, 2399, 4638, 2850, 2834, 511, 6821, 3613, 1343, 5041, 5276, 8024, 6808, 6639, 4638, 1394, 1398, 3221, 1906, 1358, 6574, 4542, 4638, 4193, 4157, 511, 800, 812, 4500, 758, 2399, 3299, 5959, 8212, 1039, 4638, 1394, 1398, 1737, 857, 749, 794, 7564, 1906, 7339, 6444, 677, 3341, 4638, 2399, 6768, 4413, 1447, 8024, 4500, 2607, 1405, 1469, 2014, 6873, 6833, 886, 800, 812, 1762, 1394, 1398, 677, 5041, 2099, 511, 6821, 3416, 4638, 1394, 1398, 3187, 4542, 3221, 1259, 6716, 2339, 5663, 4638, 1394, 1398, 8024, 794, 8113, 2259, 1168, 8132, 2259, 8024, 6821, 763, 4413, 1447, 2399, 3119, 1057, 10520, 1039, 8024, 6820, 679, 1963, 976, 7649, 2421, 3302, 1218, 1447, 1914, 511, 5445, 4413, 7339, 4638, 5439, 7339, 1447, 8024, 2190, 754, 6821, 4905, 1767, 7481, 2347, 5307, 739, 809, 711, 2382, 8024, 800, 812, 4958, 1184, 1730, 5310, 1765, 2867, 5318, 5041, 2099, 511, 5439, 7339, 1447, 4638, 1394, 1398, 6006, 4197, 3300, 3680, 2399, 1872, 1217, 8113, 110, 4638, 3340, 3621, 8024, 852, 3221, 1104, 2137, 2595, 4638, 1184, 2990, 8024, 1963, 3362, 1103, 6631, 679, 2768, 1216, 8024, 2339, 6598, 2199, 1121, 1288, 511, 6821, 3221, 671, 702, 1073, 1798, 4638, 7346, 6450, 8024, 809, 6808, 6639, 936, 727, 6956, 4680, 1184, 4638, 1392, 7555, 2339, 868, 6822, 2245, 8024, 1103, 6631, 1377, 5543, 2595, 2523, 2207, 8024, 738, 2218, 3221, 6432, 8024, 6821, 3416, 4638, 1394, 1398, 3221, 671, 702, 3209, 3030, 4708, 5010, 7027, 5966, 1143, 4638, 1394, 1398, 8024, 6134, 7481, 677, 2339, 6598, 1946, 7032, 3300, 2990, 7770, 4638, 1377, 5543, 8024, 2141, 7354, 677, 1348, 1920, 2388, 1181, 1121, 8024, 948, 679, 1963, 936, 727, 6956, 4991, 1139, 3341, 6432, 679, 1103, 6631, 749, 8024, 712, 1213, 4413, 1447, 4638, 2339, 6598, 1946, 7032, 1121, 1288, 8024, 6821, 738, 849, 725, 5016, 1394, 704, 4508, 936, 727, 6956, 4638, 4385, 4307, 8024, 5445, 936, 727, 6956, 974, 974, 6206, 2897, 671, 702, 1103, 6631, 4638, 2389, 2094, 3341, 868, 4899, 511, 6808, 6639, 794, 8396, 2399, 7360, 5277, 1168, 2131, 6817, 2970, 2797, 722, 1184, 8024, 3680, 2399, 6963, 6878, 1168, 1394, 1398, 4638, 7309, 7579, 8024, 2496, 2399, 1762, 3862, 1811, 8024, 4413, 1447, 812, 738, 3295, 5307, 7415, 860, 2867, 5318, 936, 727, 6956, 4638, 1394, 1398, 8024, 2523, 1914, 4413, 1447, 671, 4684, 1168, 2399, 2419, 6963, 3766, 3300, 5041, 8024, 1372, 3221, 1963, 3144, 2897, 2339, 6598, 1469, 1946, 7032, 511, 6821, 4905, 2658, 1105, 1762, 8338, 2399, 1168, 8263, 2399, 6963, 3300, 2100, 1762, 8024, 852, 3221, 6929, 3198, 952, 6808, 6639, 4638, 6804, 5357, 1798, 3296, 6133, 4413, 1447, 6963, 5543, 2897, 1168, 671, 674, 1779, 7178, 8024, 5445, 7564, 1906, 7339, 4413, 1447, 4638, 2339, 6598, 3297, 7770, 738, 3300, 8623, 2340, 1381, 4638, 511, 2476, 3282, 1045, 1762, 6808, 6639, 3297, 1737, 7410, 4638, 3198, 952, 738, 3295, 5307, 6878, 1168, 6814, 6821, 4905, 2658, 1105, 8024, 671, 3175, 7481, 3221, 6206, 965, 4638, 782, 1168, 6639, 1291, 2990, 897, 3332, 3160, 8024, 671, 3175, 7481, 3221, 4413, 1447, 812, 2867, 5041, 8024, 3297, 1400, 738, 3221, 6858, 6814, 1392, 4905, 1068, 5143, 3030, 2398, 1314, 3322, 8024, 852, 1184, 2990, 2553, 7557, 5031, 2418, 5314, 782, 7178, 511, 3297, 2345, 4638, 8024, 738, 3221, 5314, 2496, 752, 782, 4522, 678, 3612, 3340, 8024, 6006, 4197, 2496, 3198, 2940, 679, 677, 8024, 852, 5031, 2418, 809, 1400, 2940, 677, 8024, 6821, 738, 5314, 965, 3326, 782, 671, 702, 2419, 8024, 2141, 1762, 679, 6121, 1377, 809, 6858, 6814, 3791, 2526, 4923, 2415, 3341, 6237, 1104, 511, 5445, 8182, 6612, 2108, 8024, 2131, 6817, 7415, 1730, 1762, 3118, 802, 4413, 7339, 1392, 7555, 6589, 4500, 3175, 7481, 7478, 2382, 1737, 7410, 8024, 6006, 4197, 936, 727, 6956, 5439, 3352, 671, 1086, 2487, 6444, 3300, 7178, 8024, 852, 3221, 3118, 802, 6629, 3341, 1316, 2870, 3761, 2533, 2523, 511, 1762, 6808, 6639, 924, 5277, 4638, 1068, 7241, 7348, 3667, 8024, 4413, 7339, 1372, 3300, 712, 1213, 4413, 1447, 1377, 809, 2897, 1168, 2339, 6598, 8024, 8123, 782, 1399, 1296, 809, 1912, 4638, 782, 3418, 3315, 2897, 679, 1168, 7178, 511, 1762, 6612, 2108, 5310, 3338, 722, 1400, 8024, 936, 727, 6956, 1236, 2487, 2828, 8182, 2399, 4638, 2339, 6598, 6133, 7970, 749, 8024, 852, 3683, 6612, 1946, 7032, 1316, 6826, 6826, 3766, 3300, 1168, 855, 8024, 5168, 6369, 3300, 8209, 674, 722, 1914, 511, 5445, 680, 3634, 1398, 3198, 8024, 4895, 2458, 6808, 6639, 4638, 4413, 1447, 2101, 2292, 510, 4374, 6631, 5023, 4413, 1447, 1914, 3613, 5164, 6206, 2339, 6598, 3313, 3362, 8024, 1372, 5543, 1168, 6639, 1291, 3724, 3131, 8024, 6821, 1071, 704, 6820, 3300, 4895, 2458, 6808, 6639, 4638, 3136, 5298, 6627, 1355, 2412, 511, 2945, 6432, 8024, 1184, 818, 6808, 6639, 2600, 5307, 4415, 4923, 7905, 6778, 738, 1168, 6639, 1291, 6853, 769, 749, 3332, 3160, 8024, 1114, 1906, 1403, 6808, 6639, 6374, 5959, 8024, 852, 3221, 8125, 3189, 6821, 1921, 4923, 7905, 6778, 1415, 6371, 749, 6821, 702, 6432, 3791, 8024, 800, 6371, 711, 5632, 2346, 4638, 2339, 6598, 1946, 7032, 679, 2768, 7309, 7579, 8024, 800, 738, 4685, 928, 2131, 6817, 7415, 1730, 833, 1980, 1587, 6237, 1104, 2870, 3612, 7309, 7579, 8024, 100, 2769, 6230, 2533, 6820, 3766, 1168, 6929, 4905, 4923, 2428, 1450, 511, 100, 4895, 2458, 6808, 6639, 4638, 2523, 1914, 3136, 5298, 8024, 1071, 704, 1259, 2886, 4385, 1762, 7270, 3217, 762, 3805, 2857, 818, 712, 3136, 5298, 4638, 3330, 3409, 3154, 6963, 6371, 711, 8024, 8170, 6612, 2108, 3221, 6808, 6639, 1103, 6631, 4638, 3297, 1962, 3322, 833, 8024, 100, 1728, 711, 791, 2399, 704, 4508, 1392, 702, 7339, 4638, 2832, 1057, 6963, 679, 1920, 8024, 2523, 1914, 936, 727, 6956, 6963, 5375, 726, 1103, 6631, 4638, 4916, 3353, 2595, 8024, 6963, 1762, 1121, 5367, 2458, 3118, 8024, 1963, 3362, 6808, 6639, 4696, 2682, 1103, 6631, 4638, 6413, 8024, 8170, 6612, 2108, 2361, 3307, 2523, 1920, 511, 100, 6808, 6639, 1103, 6631, 8024, 2897, 784, 720, 1103, 8043, 6808, 6639, 5632, 2346, 6963, 679, 4761, 6887, 8013, 2190, 754, 8170, 2399, 4638, 4680, 3403, 8024, 6808, 6639, 3300, 763, 6837, 5755, 8024, 6006, 4197, 712, 1213, 7347, 2159, 924, 2898, 2533, 3683, 6772, 2130, 3146, 8024, 852, 3221, 936, 727, 6956, 4638, 2832, 1057, 7390, 722, 7229, 1121, 511, 2523, 1914, 3198, 952, 936, 727, 6956, 4638, 1447, 2339, 6963, 1762, 2697, 1386, 8024, 7178, 794, 1525, 7027, 3341, 1557, 8043, 3297, 6818, 671, 3667, 3198, 7313, 8024, 936, 727, 6956, 1348, 3300, 1126, 702, 1447, 2339, 4895, 2458, 8024, 6808, 6639, 2768, 749, 4696, 3633, 4638, 6153, 4397, 936, 727, 6956, 511, 5445, 6821, 763, 782, 2190, 3341, 2399, 1103, 6631, 3300, 1914, 1920, 928, 2552, 8024, 2523, 7410, 6432, 511, 3300, 782, 3295, 5307, 2697, 1386, 6432, 8038, 100, 2769, 812, 2553, 7557, 1591, 704, 6631, 8024, 852, 3221, 1103, 679, 1103, 2533, 677, 1343, 8024, 6929, 2218, 4692, 6121, 1220, 749, 511, 1366, 1384, 3221, 2553, 7557, 6206, 1591, 4638, 100, 100, 100, 1591, 1366, 1384, 6443, 6963, 833, 8024, 6808, 6639, 738, 833, 1591, 8024, 1377, 3221, 1591, 1139, 3341, 722, 1400, 2582, 720, 976, 8024, 2131, 6817, 849, 725, 3300, 5632, 2346, 4638, 2802, 5050, 749, 511, 6821, 3613, 5041, 5276, 6121, 1220, 2218, 3221, 671, 702, 2458, 1993, 511, 1377, 809, 5507, 2137, 4638, 3221, 8024, 4413, 1447, 679, 5041, 5276, 8024, 936, 727, 6956, 2870, 3612, 4638, 3621, 7555, 679, 3118, 802, 8024, 6808, 6639, 3221, 3187, 3791, 2130, 2768, 3800, 1085, 4638, 511, 2131, 6817, 5375, 726, 6639, 4413, 5052, 4415, 5307, 7741, 8024, 3291, 5375, 726, 1314, 3322, 1062, 1068, 4638, 5307, 7741, 8024, 1762, 936, 727, 6956, 4638, 5052, 4415, 1469, 4413, 7339, 5052, 4415, 3175, 7481, 5375, 726, 2773, 4526, 2595, 2590, 5335, 8024, 3291, 3766, 3300, 3698, 7790, 8024, 5445, 6821, 3613, 3800, 1085, 1314, 3322, 2199, 5314, 800, 812, 2372, 3341, 698, 2295, 4638, 5440, 7741, 511, 5041, 6820, 3221, 679, 5041, 8024, 6821, 3221, 702, 7309, 7579, 8013, 2190, 754, 7653, 5307, 3771, 3433, 4638, 6808, 6639, 4413, 1447, 3341, 6432, 8024, 6821, 702, 1394, 1398, 1372, 3221, 800, 812, 4413, 1447, 4495, 3889, 2496, 704, 3683, 6772, 4294, 3654, 4638, 671, 702, 511, 5445, 4413, 1447, 812, 3634, 3198, 3297, 7444, 6206, 4638, 3221, 6808, 6639, 936, 727, 6956, 1788, 6411, 4638, 2578, 2428, 511, 113, 2528, 7209, 114, 102]}\n"
     ]
    }
   ],
   "source": [
    "print(vars(train_dataset.examples[3]))"
   ]
  },
  {
   "cell_type": "markdown",
   "id": "unable-netscape",
   "metadata": {},
   "source": [
    "# vocab"
   ]
  },
  {
   "cell_type": "code",
   "execution_count": 15,
   "id": "daily-individual",
   "metadata": {},
   "outputs": [],
   "source": [
    "LABEL.build_vocab(train_dataset)"
   ]
  },
  {
   "cell_type": "code",
   "execution_count": null,
   "id": "deluxe-permit",
   "metadata": {},
   "outputs": [],
   "source": []
  },
  {
   "cell_type": "markdown",
   "id": "packed-debut",
   "metadata": {},
   "source": [
    "# iterator"
   ]
  },
  {
   "cell_type": "code",
   "execution_count": 16,
   "id": "different-suggestion",
   "metadata": {},
   "outputs": [],
   "source": [
    "BATCH_SIZE = 16\n",
    "\n",
    "train_iter, valid_iter, test_iter=data.BucketIterator.splits(\n",
    "    (train_dataset, dev_dataset, test_dataset),\n",
    "    sort=False,\n",
    "    batch_size=BATCH_SIZE,\n",
    "    device=device)"
   ]
  },
  {
   "cell_type": "code",
   "execution_count": 17,
   "id": "overhead-reviewer",
   "metadata": {},
   "outputs": [
    {
     "name": "stdout",
     "output_type": "stream",
     "text": [
      "tensor([[ 101,  101,  711,  ..., 8024, 8149,  102],\n",
      "        [ 101,  101, 2199,  ...,    0,    0,    0],\n",
      "        [ 101,  101, 1282,  ...,  671, 6762,  102],\n",
      "        ...,\n",
      "        [ 101,  101, 3330,  ..., 2501, 6496,  102],\n",
      "        [ 101,  101,  686,  ..., 1398, 5528,  102],\n",
      "        [ 101,  101,  517,  ...,  510, 7032,  102]], device='cuda:0')\n",
      "tensor([4, 2, 0, 0, 7, 6, 2, 0, 7, 2, 1, 0, 4, 1, 6, 1], device='cuda:0')\n"
     ]
    }
   ],
   "source": [
    "# 小测试\n",
    "for (content, label) in train_iter:\n",
    "    print(content)\n",
    "    print(label)\n",
    "    break\n"
   ]
  },
  {
   "cell_type": "markdown",
   "id": "terminal-advice",
   "metadata": {},
   "source": [
    "# 模型"
   ]
  },
  {
   "cell_type": "code",
   "execution_count": 18,
   "id": "judicial-valve",
   "metadata": {},
   "outputs": [],
   "source": [
    "class BERT(nn.Module):\n",
    "\n",
    "    def __init__(self):\n",
    "        super(BERT, self).__init__()\n",
    "\n",
    "        \n",
    "        self.encoder = BertForSequenceClassification.from_pretrained('../utils/bert-base-chinese',num_labels=10)\n",
    "\n",
    "    def forward(self, text, label):\n",
    "        loss, text_fea = self.encoder(text, labels=label)[:2]\n",
    "\n",
    "        return loss, text_fea"
   ]
  },
  {
   "cell_type": "markdown",
   "id": "statewide-peoples",
   "metadata": {},
   "source": [
    "# 训练"
   ]
  },
  {
   "cell_type": "code",
   "execution_count": 19,
   "id": "challenging-scanner",
   "metadata": {},
   "outputs": [],
   "source": [
    "# 保存模型参数和训练指标\n",
    "def save_checkpoint(save_path, model,valid_loss):\n",
    "    if save_path == None:\n",
    "        return None\n",
    "    \n",
    "    state_dict = {'model_state_dict': model.state_dict(),\n",
    "                  'valid_loss': valid_loss}\n",
    "    \n",
    "    torch.save(state_dict, save_path) \n",
    "    print(f'Model saved to ==> {save_path}')\n",
    "def load_checkpoint(load_path, model):\n",
    "    \n",
    "    if load_path==None:\n",
    "        return\n",
    "    \n",
    "    state_dict = torch.load(load_path, map_location=device)\n",
    "    print(f'Model loaded from <== {load_path}')\n",
    "    \n",
    "    model.load_state_dict(state_dict['model_state_dict'])\n",
    "    return state_dict['valid_loss']\n",
    "def save_metrics(save_path, train_loss_list, valid_loss_list, global_steps_list):\n",
    "\n",
    "    if save_path == None:\n",
    "        return\n",
    "    \n",
    "    state_dict = {'train_loss_list': train_loss_list,\n",
    "                  'valid_loss_list': valid_loss_list,\n",
    "                  'global_steps_list': global_steps_list}\n",
    "    \n",
    "    torch.save(state_dict, save_path)\n",
    "    print(f'Model saved to ==> {save_path}')\n",
    "\n",
    "def load_metrics(load_path):\n",
    "\n",
    "    if load_path==None:\n",
    "        return\n",
    "    \n",
    "    state_dict = torch.load(load_path, map_location=device)\n",
    "    print(f'Model loaded from <== {load_path}')\n",
    "    \n",
    "    return state_dict['train_loss_list'], state_dict['valid_loss_list'], state_dict['global_steps_list']"
   ]
  },
  {
   "cell_type": "code",
   "execution_count": 20,
   "id": "assured-chart",
   "metadata": {},
   "outputs": [],
   "source": [
    "def train(model,\n",
    "          optimizer,\n",
    "          criterion = nn.BCELoss(),\n",
    "          train_loader = train_iter,\n",
    "          valid_loader = valid_iter,\n",
    "          num_epochs = 5,\n",
    "          eval_every = len(train_iter) // 2,\n",
    "          file_path = './model_bert_cn',\n",
    "          best_valid_loss = float(\"Inf\")):\n",
    "    \n",
    "    # initialize running values\n",
    "    running_loss = 0.0\n",
    "    valid_running_loss = 0.0\n",
    "    global_step = 0\n",
    "    train_loss_list = []\n",
    "    valid_loss_list = []\n",
    "    global_steps_list = []\n",
    "\n",
    "    # training loop\n",
    "    model.train()\n",
    "    for epoch in range(num_epochs):\n",
    "        for (content, label) in train_loader:\n",
    "            labels = label.type(torch.LongTensor)           \n",
    "            labels = labels.to(device)\n",
    "            titletext = content.type(torch.LongTensor)  \n",
    "            titletext = titletext.to(device)\n",
    "            output = model(titletext, labels)\n",
    "            loss, _ = output\n",
    "\n",
    "            optimizer.zero_grad()\n",
    "            loss.backward()\n",
    "            optimizer.step()\n",
    "\n",
    "            # update running values\n",
    "            running_loss += loss.item()\n",
    "            global_step += 1\n",
    "\n",
    "            # evaluation step\n",
    "            if global_step % eval_every == 0:\n",
    "                model.eval()\n",
    "                with torch.no_grad():                    \n",
    "\n",
    "                    # validation loop\n",
    "                    for (content, label) in valid_loader:\n",
    "                        labels = label.type(torch.LongTensor)           \n",
    "                        labels = labels.to(device)\n",
    "                        titletext = content.type(torch.LongTensor)  \n",
    "                        titletext = titletext.to(device)\n",
    "                        output = model(titletext, labels)\n",
    "                        loss, _ = output\n",
    "                        \n",
    "                        valid_running_loss += loss.item()\n",
    "\n",
    "                # evaluation\n",
    "                average_train_loss = running_loss / eval_every\n",
    "                average_valid_loss = valid_running_loss / len(valid_loader)\n",
    "                train_loss_list.append(average_train_loss)\n",
    "                valid_loss_list.append(average_valid_loss)\n",
    "                global_steps_list.append(global_step)\n",
    "\n",
    "                # resetting running values\n",
    "                running_loss = 0.0                \n",
    "                valid_running_loss = 0.0\n",
    "                model.train()\n",
    "\n",
    "                # print progress\n",
    "                print('Epoch [{}/{}], Step [{}/{}], Train Loss: {:.4f}, Valid Loss: {:.4f}'\n",
    "                      .format(epoch+1, num_epochs, global_step, num_epochs*len(train_loader),\n",
    "                              average_train_loss, average_valid_loss))\n",
    "                \n",
    "                # checkpoint\n",
    "                if best_valid_loss > average_valid_loss:\n",
    "                    best_valid_loss = average_valid_loss\n",
    "                    save_checkpoint(file_path + '/' + 'model.pt', model, best_valid_loss)\n",
    "                    save_metrics(file_path + '/' + 'metrics.pt', train_loss_list, valid_loss_list, global_steps_list)\n",
    "    \n",
    "    save_metrics(file_path + '/' + 'metrics.pt', train_loss_list, valid_loss_list, global_steps_list)\n",
    "    print('Finished Training!')"
   ]
  },
  {
   "cell_type": "code",
   "execution_count": 21,
   "id": "southwest-daughter",
   "metadata": {},
   "outputs": [
    {
     "name": "stderr",
     "output_type": "stream",
     "text": [
      "Some weights of the model checkpoint at ../utils/bert-base-chinese were not used when initializing BertForSequenceClassification: ['cls.predictions.bias', 'cls.predictions.transform.dense.weight', 'cls.predictions.transform.dense.bias', 'cls.predictions.decoder.weight', 'cls.seq_relationship.weight', 'cls.seq_relationship.bias', 'cls.predictions.transform.LayerNorm.weight', 'cls.predictions.transform.LayerNorm.bias']\n",
      "- This IS expected if you are initializing BertForSequenceClassification from the checkpoint of a model trained on another task or with another architecture (e.g. initializing a BertForSequenceClassification model from a BertForPreTraining model).\n",
      "- This IS NOT expected if you are initializing BertForSequenceClassification from the checkpoint of a model that you expect to be exactly identical (initializing a BertForSequenceClassification model from a BertForSequenceClassification model).\n",
      "Some weights of BertForSequenceClassification were not initialized from the model checkpoint at ../utils/bert-base-chinese and are newly initialized: ['classifier.weight', 'classifier.bias']\n",
      "You should probably TRAIN this model on a down-stream task to be able to use it for predictions and inference.\n"
     ]
    }
   ],
   "source": [
    "model = BERT().to(device)\n",
    "optimizer = optim.Adam(model.parameters(), lr=2e-5)\n",
    "\n"
   ]
  },
  {
   "cell_type": "code",
   "execution_count": 22,
   "id": "incorporated-annotation",
   "metadata": {},
   "outputs": [
    {
     "name": "stdout",
     "output_type": "stream",
     "text": [
      "Epoch [1/5], Step [1562/15625], Train Loss: 0.1984, Valid Loss: 0.1296\n",
      "Model saved to ==> ./model_bert_cn/model.pt\n",
      "Model saved to ==> ./model_bert_cn/metrics.pt\n",
      "Epoch [1/5], Step [3124/15625], Train Loss: 0.1025, Valid Loss: 0.1241\n",
      "Model saved to ==> ./model_bert_cn/model.pt\n",
      "Model saved to ==> ./model_bert_cn/metrics.pt\n",
      "Epoch [2/5], Step [4686/15625], Train Loss: 0.0638, Valid Loss: 0.1040\n",
      "Model saved to ==> ./model_bert_cn/model.pt\n",
      "Model saved to ==> ./model_bert_cn/metrics.pt\n",
      "Epoch [2/5], Step [6248/15625], Train Loss: 0.0614, Valid Loss: 0.1454\n",
      "Epoch [3/5], Step [7810/15625], Train Loss: 0.0378, Valid Loss: 0.1190\n",
      "Epoch [3/5], Step [9372/15625], Train Loss: 0.0431, Valid Loss: 0.1333\n",
      "Epoch [4/5], Step [10934/15625], Train Loss: 0.0239, Valid Loss: 0.1712\n",
      "Epoch [4/5], Step [12496/15625], Train Loss: 0.0319, Valid Loss: 0.1466\n",
      "Epoch [5/5], Step [14058/15625], Train Loss: 0.0227, Valid Loss: 0.2098\n",
      "Epoch [5/5], Step [15620/15625], Train Loss: 0.0243, Valid Loss: 0.1537\n",
      "Model saved to ==> ./model_bert_cn/metrics.pt\n",
      "Finished Training!\n"
     ]
    }
   ],
   "source": [
    "train(model=model, optimizer=optimizer)"
   ]
  },
  {
   "cell_type": "code",
   "execution_count": 26,
   "id": "another-qatar",
   "metadata": {},
   "outputs": [
    {
     "name": "stdout",
     "output_type": "stream",
     "text": [
      "Model loaded from <== ./model_bert_cn/metrics.pt\n"
     ]
    },
    {
     "data": {
      "image/png": "[encoded data removed]",
      "text/plain": [
       "<Figure size 432x288 with 1 Axes>"
      ]
     },
     "metadata": {
      "needs_background": "light"
     },
     "output_type": "display_data"
    }
   ],
   "source": [
    "\n",
    "destination_folder = './model_bert_cn'\n",
    "train_loss_list, valid_loss_list, global_steps_list = load_metrics(destination_folder + '/metrics.pt')\n",
    "plt.plot(global_steps_list, train_loss_list, label='Train')\n",
    "plt.plot(global_steps_list, valid_loss_list, label='Valid')\n",
    "plt.xlabel('Global Steps')\n",
    "plt.ylabel('Loss')\n",
    "plt.legend()\n",
    "plt.show() "
   ]
  },
  {
   "cell_type": "code",
   "execution_count": null,
   "id": "periodic-import",
   "metadata": {},
   "outputs": [],
   "source": []
  }
 ],
 "metadata": {
  "kernelspec": {
   "display_name": "pytorch",
   "language": "python",
   "name": "pytorch"
  },
  "language_info": {
   "codemirror_mode": {
    "name": "ipython",
    "version": 3
   },
   "file_extension": ".py",
   "mimetype": "text/x-python",
   "name": "python",
   "nbconvert_exporter": "python",
   "pygments_lexer": "ipython3",
   "version": "3.7.10"
  }
 },
 "nbformat": 4,
 "nbformat_minor": 5
}
